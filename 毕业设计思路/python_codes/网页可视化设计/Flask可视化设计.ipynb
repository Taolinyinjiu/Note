{
 "cells": [
  {
   "cell_type": "code",
   "execution_count": 6,
   "id": "4f7332b0-f8e7-40fd-aa28-e971d9dd2ae2",
   "metadata": {},
   "outputs": [],
   "source": [
    "# flask用于搭建 Web 服务，接收用户的请求，处理数据，并将图表数据或图表文件传递给前端\n",
    "# Flask 创建 Flask Web 应用实例的核心类\n",
    "# render_template 用于渲染 HTML 模板文件\n",
    "from flask import Flask, render_template\n",
    "# random库提供生成随机数的函数\n",
    "import random"
   ]
  },
  {
   "cell_type": "code",
   "execution_count": 7,
   "id": "c44624c8-061f-4a97-960f-298ab4314cde",
   "metadata": {},
   "outputs": [],
   "source": [
    "# 创建了一个 Flask 应用实例，并将其赋值给变量 app\n",
    "# __name__是一个 Python 内置的特殊变量，它表示当前模块的名称。当直接运行这个脚本时，__name__ 的值是 '__main__'\n",
    "app = Flask(__name__)"
   ]
  },
  {
   "cell_type": "code",
   "execution_count": 8,
   "id": "543f92a6-ddce-4fce-b6db-28a27c17de9e",
   "metadata": {},
   "outputs": [],
   "source": [
    "# @app.route('/'): 这是一个装饰器（Decorator）。在 Python 中，装饰器是一种修改函数行为的简洁方式。\n",
    "# @app.route('/') 的作用是将函数 index() 绑定到 Web 应用的根路径 /。\n",
    "# 当用户在浏览器中访问应用的根 URL (例如 http://127.0.0.1:5000/) 时，Flask 会调用 index() 函数\n",
    "@app.route('/')\n",
    "def index():\n",
    "    # 准备图表数据\n",
    "    # labels 行创建了一个包含月份名称的列表，这个列表将作为图表的 X 轴标签\n",
    "    labels = [\"January\", \"February\", \"March\", \"April\", \"May\", \"June\"]\n",
    "    # data 行使用列表推导式创建了一个包含随机整数的列表\n",
    "    data = [random.randint(10, 100) for _ in range(len(labels))]\n",
    "    # 调用了 render_template() 函数，它的作用是渲染名为 index.html 的 HTML 模板文件，并将 labels 和 data 这两个 Python 变量传递给该模板\n",
    "    # Flask 会在默认的 templates 文件夹中查找 index.html 文件\n",
    "    return render_template('index.html', labels=labels, data=data)"
   ]
  },
  {
   "cell_type": "code",
   "execution_count": 9,
   "id": "195d5469-d3dd-4948-a328-711256b61906",
   "metadata": {},
   "outputs": [
    {
     "name": "stdout",
     "output_type": "stream",
     "text": [
      " * Serving Flask app '__main__'\n",
      " * Debug mode: on\n"
     ]
    },
    {
     "name": "stderr",
     "output_type": "stream",
     "text": [
      "WARNING: This is a development server. Do not use it in a production deployment. Use a production WSGI server instead.\n",
      " * Running on http://127.0.0.1:5000\n",
      "Press CTRL+C to quit\n",
      " * Restarting with stat\n"
     ]
    },
    {
     "ename": "SystemExit",
     "evalue": "1",
     "output_type": "error",
     "traceback": [
      "An exception has occurred, use %tb to see the full traceback.\n",
      "\u001b[31mSystemExit\u001b[39m\u001b[31m:\u001b[39m 1\n"
     ]
    }
   ],
   "source": [
    "app.run(debug=True)"
   ]
  },
  {
   "cell_type": "code",
   "execution_count": null,
   "id": "98ca3bac-49e0-4910-b86e-38a14dab671c",
   "metadata": {},
   "outputs": [],
   "source": []
  }
 ],
 "metadata": {
  "kernelspec": {
   "display_name": "Python 3 (ipykernel)",
   "language": "python",
   "name": "python3"
  },
  "language_info": {
   "codemirror_mode": {
    "name": "ipython",
    "version": 3
   },
   "file_extension": ".py",
   "mimetype": "text/x-python",
   "name": "python",
   "nbconvert_exporter": "python",
   "pygments_lexer": "ipython3",
   "version": "3.12.9"
  }
 },
 "nbformat": 4,
 "nbformat_minor": 5
}

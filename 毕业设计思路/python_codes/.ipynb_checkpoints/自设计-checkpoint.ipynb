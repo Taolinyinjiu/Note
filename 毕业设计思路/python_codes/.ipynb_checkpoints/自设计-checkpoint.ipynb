{
 "cells": [
  {
   "cell_type": "code",
   "execution_count": 5,
   "id": "86ef0d95-08d2-45fe-93a2-a12d6f74cf7d",
   "metadata": {},
   "outputs": [],
   "source": [
    "# 导入设计库\n",
    "import svgwrite\n"
   ]
  },
  {
   "cell_type": "code",
   "execution_count": null,
   "id": "176ca724-86f8-4033-98c9-8593036d8f5f",
   "metadata": {},
   "outputs": [],
   "source": [
    "# designed my function\n",
    "def dwg_write_test():\n",
    "    dwg = svgwrite.Drawing('my_test_drawing.svg', size=('200px','300px'))\n",
    "    dwg.add(dwg.line((10,10), (190,140), stroke='blue', stroke_width=2))\n",
    "    dwg.save()"
   ]
  },
  {
   "cell_type": "code",
   "execution_count": null,
   "id": "c31b40af-d4d2-4312-b005-1d838a800ba4",
   "metadata": {},
   "outputs": [],
   "source": []
  },
  {
   "cell_type": "code",
   "execution_count": null,
   "id": "5f6f4127-f400-41df-91e5-bc51d64b4198",
   "metadata": {},
   "outputs": [],
   "source": []
  },
  {
   "cell_type": "code",
   "execution_count": 6,
   "id": "9a4186f5-1d07-4dc7-8998-1caf21f4c45b",
   "metadata": {},
   "outputs": [],
   "source": [
    "dwg_write_test()"
   ]
  },
  {
   "cell_type": "code",
   "execution_count": null,
   "id": "2a7f6813-426b-4746-b237-f33348793a8d",
   "metadata": {},
   "outputs": [],
   "source": []
  }
 ],
 "metadata": {
  "kernelspec": {
   "display_name": "Python 3 (ipykernel)",
   "language": "python",
   "name": "python3"
  },
  "language_info": {
   "codemirror_mode": {
    "name": "ipython",
    "version": 3
   },
   "file_extension": ".py",
   "mimetype": "text/x-python",
   "name": "python",
   "nbconvert_exporter": "python",
   "pygments_lexer": "ipython3",
   "version": "3.12.9"
  }
 },
 "nbformat": 4,
 "nbformat_minor": 5
}

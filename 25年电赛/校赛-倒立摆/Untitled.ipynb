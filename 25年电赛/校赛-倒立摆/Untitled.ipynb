{
 "cells": [
  {
   "cell_type": "code",
   "execution_count": 1,
   "id": "b696e78f-6fbd-434d-8cef-505f17caed18",
   "metadata": {},
   "outputs": [],
   "source": [
    "def calculate_shortest_path(angle1, angle2):\n",
    "    \"\"\"\n",
    "    计算两个圆周上点之间的最短路径的角度差值和方向。\n",
    "\n",
    "    Args:\n",
    "        angle1 (float): 第一个角度 (0-360度)。\n",
    "        angle2 (float): 第二个角度 (0-360度)。\n",
    "\n",
    "    Returns:\n",
    "        tuple: (最小角度差值 (float), 差值方向 (str, '顺时针' 或 '逆时针'))\n",
    "    \"\"\"\n",
    "    diff = angle2 - angle1\n",
    "    if diff > 180:\n",
    "        shortest_diff = diff - 360\n",
    "        direction = \"逆时针\"\n",
    "    elif diff <= -180:\n",
    "        shortest_diff = diff + 360\n",
    "        direction = \"顺时针\"\n",
    "    elif diff > 0:\n",
    "        shortest_diff = diff\n",
    "        direction = \"逆时针\"\n",
    "    elif diff < 0:\n",
    "        shortest_diff = diff\n",
    "        direction = \"顺时针\"\n",
    "    else:\n",
    "        shortest_diff = 0\n",
    "        direction = \"无\"  # 两个角度相同\n",
    "\n",
    "    return abs(shortest_diff), direction"
   ]
  },
  {
   "cell_type": "code",
   "execution_count": null,
   "id": "79433828-8747-4360-81c8-ffc6a5c5f480",
   "metadata": {},
   "outputs": [],
   "source": [
    "# 示例用法\n",
    "\n",
    "\n",
    "\n",
    "\n",
    "angle_e = 60\n",
    "angle_f = 120\n",
    "difference, direction = calculate_shortest_path(angle_e, angle_f)\n",
    "print(f\"从 {angle_e} 度到 {angle_f} 度的最短路径差值为 {difference} 度，方向是 {direction}。\")\n",
    "\n",
    "angle_g = 150\n",
    "angle_h = 90\n",
    "difference, direction = calculate_shortest_path(angle_g, angle_h)\n",
    "print(f\"从 {angle_g} 度到 {angle_h} 度的最短路径差值为 {difference} 度，方向是 {direction}。\")\n",
    "\n",
    "angle_i = 45\n",
    "angle_j = 45\n",
    "difference, direction = calculate_shortest_path(angle_i, angle_j)\n",
    "print(f\"从 {angle_i} 度到 {angle_j} 度的最短路径差值为 {difference} 度，方向是 {direction}。\")"
   ]
  },
  {
   "cell_type": "code",
   "execution_count": 2,
   "id": "01bcf1e2-97bf-403e-bcdb-de8d68194b25",
   "metadata": {},
   "outputs": [
    {
     "name": "stdout",
     "output_type": "stream",
     "text": [
      "从 30 度到 300 度的最短路径差值为 90 度，方向是 逆时针。\n"
     ]
    }
   ],
   "source": [
    "angle_a = 30\n",
    "angle_b = 300\n",
    "difference, direction = calculate_shortest_path(angle_a, angle_b)\n",
    "print(f\"从 {angle_a} 度到 {angle_b} 度的最短路径差值为 {difference} 度，方向是 {direction}。\")"
   ]
  },
  {
   "cell_type": "code",
   "execution_count": 3,
   "id": "4c5de4db-02f2-44c7-a9e7-4c57de30761f",
   "metadata": {},
   "outputs": [
    {
     "name": "stdout",
     "output_type": "stream",
     "text": [
      "从 330 度到 30 度的最短路径差值为 60 度，方向是 顺时针。\n"
     ]
    }
   ],
   "source": [
    "angle_c = 330\n",
    "angle_d = 30\n",
    "difference, direction = calculate_shortest_path(angle_c, angle_d)\n",
    "print(f\"从 {angle_c} 度到 {angle_d} 度的最短路径差值为 {difference} 度，方向是 {direction}。\")"
   ]
  },
  {
   "cell_type": "code",
   "execution_count": null,
   "id": "1e484c7a-122a-4919-ad49-baa83035409b",
   "metadata": {},
   "outputs": [],
   "source": []
  }
 ],
 "metadata": {
  "kernelspec": {
   "display_name": "Python 3 (ipykernel)",
   "language": "python",
   "name": "python3"
  },
  "language_info": {
   "codemirror_mode": {
    "name": "ipython",
    "version": 3
   },
   "file_extension": ".py",
   "mimetype": "text/x-python",
   "name": "python",
   "nbconvert_exporter": "python",
   "pygments_lexer": "ipython3",
   "version": "3.12.9"
  }
 },
 "nbformat": 4,
 "nbformat_minor": 5
}

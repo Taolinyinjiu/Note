{
 "cells": [
  {
   "cell_type": "code",
   "execution_count": null,
   "id": "c0885e9c-82e5-4f3b-bedd-04b2e9818e4d",
   "metadata": {},
   "outputs": [],
   "source": [
    "YOLO Results Data: {'objects': [{'class_name': 'drink', 'index': 0, 'box_size': {'width': 118, 'height': 90}, 'position': {'x1': 80, 'y1': 227, 'x2': 198, 'y2': 317}, 'confidence': 0.9390818476676941, 'frame_index': 0}, {'class_name': 'drink', \n",
    "'index': 1, 'box_size': {'width': 115, 'height': 117}, 'position': {'x1': 103, 'y1': 332, 'x2': 218, 'y2': 449}, 'confidence': 0.9375197291374207, 'frame_index': 0}, {'class_name': 'drink', 'index': 2, 'box_size': {'width': 120, 'height': 91}, \n",
    "'position': {'x1': 453, 'y1': 233, 'x2': 573, 'y2': 324}, 'confidence': 0.9359937310218811, 'frame_index': 0}, {'class_name': 'drink', 'index': 3, 'box_size': {'width': 111, 'height': 111}, 'position': {'x1': 405, 'y1': 329, 'x2': 516, 'y2': 44\n",
    "0}, 'confidence': 0.9341632127761841, 'frame_index': 0}, {'class_name': 'drink', 'index': 4, 'box_size': {'width': 93, 'height': 107}, 'position': {'x1': 270, 'y1': 327, 'x2': 363, 'y2': 434}, 'confidence': 0.9315690398216248, 'frame_index': 0}\n",
    ", {'class_name': 'apple', 'index': 5, 'box_size': {'width': 172, 'height': 171}, 'position': {'x1': 122, 'y1': 51, 'x2': 294, 'y2': 222}, 'confidence': 0.9116459488868713, 'frame_index': 0}, {'class_name': 'apple', 'index': 6, 'box_size': {'wid\n",
    "th': 137, 'height': 145}, 'position': {'x1': 354, 'y1': 98, 'x2': 491, 'y2': 243}, 'confidence': 0.9098533987998962, 'frame_index': 0}], 'class_totals': {'drink': {'width': 493, 'height': 222}, 'apple': {'width': 369, 'height': 192}}}\n",
    "127.0.0.1 - - [20/May/2025 01:29:39] \"GET /get_yolo_results HTTP/1.1\" 200 -"
   ]
  }
 ],
 "metadata": {
  "kernelspec": {
   "display_name": "Python 3 (ipykernel)",
   "language": "python",
   "name": "python3"
  },
  "language_info": {
   "codemirror_mode": {
    "name": "ipython",
    "version": 3
   },
   "file_extension": ".py",
   "mimetype": "text/x-python",
   "name": "python",
   "nbconvert_exporter": "python",
   "pygments_lexer": "ipython3",
   "version": "3.12.9"
  }
 },
 "nbformat": 4,
 "nbformat_minor": 5
}

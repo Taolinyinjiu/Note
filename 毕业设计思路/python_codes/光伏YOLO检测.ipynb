{
 "cells": [
  {
   "cell_type": "code",
   "execution_count": 1,
   "id": "adc18244-e7fe-4c26-a56d-4e627a7d4514",
   "metadata": {},
   "outputs": [],
   "source": [
    "from ultralytics import YOLO\n",
    "import cv2"
   ]
  },
  {
   "cell_type": "code",
   "execution_count": 2,
   "id": "28fb4d1d-e30c-4e54-8b78-4eaef30cc486",
   "metadata": {},
   "outputs": [],
   "source": [
    "# 导入用于在Jupyter中显示视频流的display库， IPython 的一个子模块，用于在 IPython 环境中显示各种类型的数据，包括图像、视频、音频、HTML 等\n",
    "from IPython.display import display\n",
    "# ipywidgets 是一个用于在 Jupyter Notebook 和 JupyterLab 中创建交互式控件（例如按钮、滑块、文本框、图像显示等）的库\n",
    "import ipywidgets as widgets"
   ]
  },
  {
   "cell_type": "code",
   "execution_count": 3,
   "id": "ddbed983-d667-4785-93b0-4b5cdaf2c25d",
   "metadata": {},
   "outputs": [],
   "source": [
    "model = YOLO('G:/Downloads/train-18/train18/weights/best.pt')"
   ]
  },
  {
   "cell_type": "code",
   "execution_count": 21,
   "id": "76b88763-1a87-4f5e-981d-9250819bbc63",
   "metadata": {},
   "outputs": [],
   "source": [
    "frame = cv2.imread('test-3.jpg')"
   ]
  },
  {
   "cell_type": "code",
   "execution_count": 22,
   "id": "6b904948-ff79-463c-b073-a362dde5e6c9",
   "metadata": {},
   "outputs": [
    {
     "name": "stdout",
     "output_type": "stream",
     "text": [
      "\n",
      "0: 640x640 1 Defective, 1 Dust, 33.8ms\n",
      "Speed: 7.4ms preprocess, 33.8ms inference, 1.4ms postprocess per image at shape (1, 3, 640, 640)\n"
     ]
    }
   ],
   "source": [
    "results = model(frame)"
   ]
  },
  {
   "cell_type": "code",
   "execution_count": 23,
   "id": "6bdcd084-83fe-4531-b225-59c00ec0fff2",
   "metadata": {},
   "outputs": [],
   "source": [
    "for r in results:\n",
    "    boxes = r.boxes\n",
    "    for box in boxes:\n",
    "        # Extract bounding box coordinates\n",
    "        x1, y1, x2, y2 = map(int, box.xyxy[0])\n",
    "\n",
    "        # Get the confidence score\n",
    "        confidence = box.conf[0]\n",
    "\n",
    "        # Get the class ID\n",
    "        class_id = int(box.cls[0])\n",
    "\n",
    "        # Get the class name (if available in the model's names attribute)\n",
    "        if model.names and class_id in model.names:\n",
    "            class_name = model.names[class_id]\n",
    "        else:\n",
    "            class_name = f\"Class {class_id}\"\n",
    "\n",
    "        # Draw the bounding box\n",
    "        cv2.rectangle(frame, (x1, y1), (x2, y2), (0, 255, 0), 2)\n",
    "\n",
    "        # Display the class name and confidence\n",
    "        label = f\"{class_name}: {confidence:.2f}\"\n",
    "        cv2.putText(frame, label, (x1, y1 - 10), cv2.FONT_HERSHEY_SIMPLEX, 0.5, (0, 255, 0), 2)"
   ]
  },
  {
   "cell_type": "code",
   "execution_count": 13,
   "id": "9691169b-9dcc-42db-904f-e4620a0622a3",
   "metadata": {},
   "outputs": [],
   "source": [
    "cv2.imshow('YOLOv8 Detection', frame)"
   ]
  },
  {
   "cell_type": "code",
   "execution_count": 25,
   "id": "62f49f60-8149-4632-88ee-d527334f8c07",
   "metadata": {},
   "outputs": [],
   "source": [
    "# 将原始帧转换为 JPEG 并更新图像控件\n",
    "_, frame_jpeg = cv2.imencode('.jpeg', frame)\n",
    "image_widget_original.value = frame_jpeg.tobytes()"
   ]
  },
  {
   "cell_type": "code",
   "execution_count": 24,
   "id": "42daebad-2ead-44bd-a464-464bea97f389",
   "metadata": {},
   "outputs": [
    {
     "data": {
      "application/vnd.jupyter.widget-view+json": {
       "model_id": "b2dd791a13e3437885372e1e6a724dad",
       "version_major": 2,
       "version_minor": 0
      },
      "text/plain": [
       "HBox(children=(Image(value=b'', format='jpeg'),))"
      ]
     },
     "metadata": {},
     "output_type": "display_data"
    }
   ],
   "source": [
    "# 创建用于在 Jupyter 中显示的图像控件\n",
    "image_widget_original = widgets.Image(format='jpeg')\n",
    "# image_widget_undistorted = widgets.Image(format='jpeg')\n",
    "display(widgets.HBox([image_widget_original]))"
   ]
  },
  {
   "cell_type": "code",
   "execution_count": 28,
   "id": "66677f65-3437-45e5-9155-f9b0a61810a2",
   "metadata": {},
   "outputs": [
    {
     "data": {
      "text/plain": [
       "True"
      ]
     },
     "execution_count": 28,
     "metadata": {},
     "output_type": "execute_result"
    }
   ],
   "source": [
    "cv2.imwrite('saved_image.jpg',frame)"
   ]
  },
  {
   "cell_type": "code",
   "execution_count": null,
   "id": "2aa3d180-1aee-4840-8665-20ef1d0e1812",
   "metadata": {},
   "outputs": [],
   "source": []
  }
 ],
 "metadata": {
  "kernelspec": {
   "display_name": "Python 3 (ipykernel)",
   "language": "python",
   "name": "python3"
  },
  "language_info": {
   "codemirror_mode": {
    "name": "ipython",
    "version": 3
   },
   "file_extension": ".py",
   "mimetype": "text/x-python",
   "name": "python",
   "nbconvert_exporter": "python",
   "pygments_lexer": "ipython3",
   "version": "3.12.9"
  }
 },
 "nbformat": 4,
 "nbformat_minor": 5
}

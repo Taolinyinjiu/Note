{
 "cells": [
  {
   "cell_type": "code",
   "execution_count": 3,
   "id": "c9b691a6-8091-42bd-bc6b-b0bb3bbe1391",
   "metadata": {},
   "outputs": [],
   "source": [
    "# 导入视觉处理库 OpenCV\n",
    "import cv2\n",
    "# 导入数据处理库 numpy\n",
    "import numpy as np"
   ]
  },
  {
   "cell_type": "code",
   "execution_count": 2,
   "id": "40192403-0e35-4281-a8a2-c197f8353369",
   "metadata": {},
   "outputs": [],
   "source": [
    "# 导入线程库threading\n",
    "import threading\n",
    "# 导入python的标准库time，提供与时间相关的函数\n",
    "import time"
   ]
  },
  {
   "cell_type": "code",
   "execution_count": 3,
   "id": "dedfd439-b826-4bab-b7fe-07f5473606be",
   "metadata": {},
   "outputs": [],
   "source": [
    "# 导入用于在Jupyter中显示视频流的display库\n",
    "from IPython.display import display\n",
    "# ipywidgets 是一个用于在 Jupyter Notebook 和 JupyterLab 中创建交互式控件（例如按钮、滑块、文本框、图像显示等）的库\n",
    "import ipywidgets as widgets"
   ]
  },
  {
   "cell_type": "code",
   "execution_count": 4,
   "id": "b51b8334-881d-4bf6-a444-2c6366f9bfc4",
   "metadata": {},
   "outputs": [
    {
     "data": {
      "application/vnd.jupyter.widget-view+json": {
       "model_id": "aaa013958c244011ab553afdae0f1192",
       "version_major": 2,
       "version_minor": 0
      },
      "text/plain": [
       "HBox(children=(Image(value=b'', format='jpeg'), Image(value=b'', format='jpeg')))"
      ]
     },
     "metadata": {},
     "output_type": "display_data"
    }
   ],
   "source": [
    "# 创建用于在 Jupyter 中显示的图像控件\n",
    "image_widget_original = widgets.Image(format='jpeg')\n",
    "image_widget_undistorted = widgets.Image(format='jpeg')\n",
    "display(widgets.HBox([image_widget_original, image_widget_undistorted]))"
   ]
  },
  {
   "cell_type": "code",
   "execution_count": 6,
   "id": "3fa8d9c0-f203-4b63-804b-c247ecb10313",
   "metadata": {},
   "outputs": [],
   "source": [
    "cap = cv2.VideoCapture(0)\n",
    "success = cap.isOpened()\n",
    "# 关闭自动白平衡\n",
    "cap.set(cv2.CAP_PROP_AUTO_WB, 0)\n",
    "# 设置白平衡值\n",
    "cap.set(cv2.CAP_PROP_WB_TEMPERATURE, 1000)\n",
    "while success:\n",
    "    ret, frames = cap.read()\n",
    "    frame_rgb = cv2.cvtColor(frames, cv2.COLOR_BGR2RGB)\n",
    "    cv2.imshow(\"\", frames)\n",
    "    if cv2.waitKey(1) & 0xFF == ord('q'):\n",
    "        break\n",
    "cap.release()\n",
    "cv2.destroyAllWindows()\n"
   ]
  },
  {
   "cell_type": "code",
   "execution_count": 10,
   "id": "d9c560f7-48e4-4a5d-84f2-78af187857e8",
   "metadata": {},
   "outputs": [
    {
     "data": {
      "text/plain": [
       "False"
      ]
     },
     "execution_count": 10,
     "metadata": {},
     "output_type": "execute_result"
    }
   ],
   "source": [
    "cap.set(cv2.CAP_PROP_WB_TEMPERATURE, 200)"
   ]
  },
  {
   "cell_type": "code",
   "execution_count": 25,
   "id": "dcc03aa1-f78f-4a42-8c3f-90074dae2767",
   "metadata": {},
   "outputs": [],
   "source": [
    "cap = cv2.VideoCapture(0)"
   ]
  },
  {
   "cell_type": "code",
   "execution_count": 29,
   "id": "837ce775-a904-48cc-b8db-2331bf43eb13",
   "metadata": {},
   "outputs": [
    {
     "data": {
      "text/plain": [
       "False"
      ]
     },
     "execution_count": 29,
     "metadata": {},
     "output_type": "execute_result"
    }
   ],
   "source": [
    "# 关闭自动白平衡\n",
    "cap.set(cv2.CAP_PROP_AUTO_WB,0)"
   ]
  },
  {
   "cell_type": "code",
   "execution_count": 26,
   "id": "c90d1df3-c94e-41e0-b7c0-4b676056986f",
   "metadata": {},
   "outputs": [
    {
     "data": {
      "text/plain": [
       "True"
      ]
     },
     "execution_count": 26,
     "metadata": {},
     "output_type": "execute_result"
    }
   ],
   "source": [
    "cap.isOpened()"
   ]
  },
  {
   "cell_type": "code",
   "execution_count": 19,
   "id": "199589f2-19f3-46df-9e7c-9c2197dbaec2",
   "metadata": {},
   "outputs": [],
   "source": [
    "import cv2\n",
    "import numpy as np\n",
    "\n",
    "def simple_white_balance(img):\n",
    "    \"\"\"\n",
    "    简单的完美反射白平衡算法。\n",
    "\n",
    "    Args:\n",
    "        img: 输入的彩色图像 (BGR 格式的 NumPy 数组)。\n",
    "\n",
    "    Returns:\n",
    "        白平衡调整后的彩色图像 (BGR 格式的 NumPy 数组)。\n",
    "    \"\"\"\n",
    "    # 将图像转换为浮点数类型，以便进行除法运算\n",
    "    img_float = img.astype(np.float32) / 255.0\n",
    "\n",
    "    # 计算每个像素的亮度 (可以简单地取 RGB 三通道的最大值)\n",
    "    brightness = np.max(img_float, axis=2)\n",
    "\n",
    "    # 找到亮度最高的像素点的索引\n",
    "    max_brightness_index = np.argmax(brightness)\n",
    "    y, x = np.unravel_index(max_brightness_index, brightness.shape)\n",
    "\n",
    "    # 获取最亮像素点的 RGB 值\n",
    "    max_r, max_g, max_b = img_float[y, x]\n",
    "\n",
    "    # 如果最亮点不是白色，则进行白平衡调整\n",
    "    if max_r > 0 and max_g > 0 and max_b > 0:\n",
    "        # 计算缩放因子，使得最亮点变为白色 (R=1, G=1, B=1)\n",
    "        scale_r = 1.0 / max_r\n",
    "        scale_g = 1.0 / max_g\n",
    "        scale_b = 1.0 / max_b\n",
    "\n",
    "        # 应用缩放因子到每个通道\n",
    "        balanced_img = np.zeros_like(img_float)\n",
    "        balanced_img[:, :, 0] = img_float[:, :, 0] * scale_b\n",
    "        balanced_img[:, :, 1] = img_float[:, :, 1] * scale_g\n",
    "        balanced_img[:, :, 2] = img_float[:, :, 2] * scale_r\n",
    "\n",
    "        # 将像素值限制在 [0, 1] 范围内\n",
    "        balanced_img = np.clip(balanced_img, 0, 1)\n",
    "    else:\n",
    "        balanced_img = img_float\n",
    "\n",
    "    # 将图像转换回 8 位整数类型\n",
    "    balanced_img_uint8 = (balanced_img * 255).astype(np.uint8)\n",
    "\n",
    "    return balanced_img_uint8\n",
    "\n",
    "if True:\n",
    "    # 打开 USB 摄像头 (通常摄像头索引为 0，如果有多个摄像头可以尝试 1, 2, ...)\n",
    "    cap = cv2.VideoCapture(0)\n",
    "\n",
    "    if not cap.isOpened():\n",
    "        print(\"无法打开摄像头\")\n",
    "        exit()\n",
    "\n",
    "    cv2.namedWindow('Original Camera Feed', cv2.WINDOW_NORMAL)\n",
    "    cv2.namedWindow('SimpleWB Balanced Feed', cv2.WINDOW_NORMAL)\n",
    "\n",
    "    while True:\n",
    "        # 读取一帧图像\n",
    "        ret, frame = cap.read()\n",
    "\n",
    "        if not ret:\n",
    "            print(\"无法接收到帧 (stream end?). 退出 ...\")\n",
    "            break\n",
    "\n",
    "        # 应用完美反射白平衡算法\n",
    "        balanced_frame = simple_white_balance(frame)\n",
    "\n",
    "        # 显示原始图像和白平衡调整后的图像\n",
    "        cv2.imshow('Original Camera Feed', frame)\n",
    "        cv2.imshow('SimpleWB Balanced Feed', balanced_frame)\n",
    "\n",
    "        # 按下 'q' 键退出循环\n",
    "        if cv2.waitKey(1) & 0xFF == ord('q'):\n",
    "            break\n",
    "\n",
    "    # 释放摄像头并关闭窗口\n",
    "    cap.release()\n",
    "    cv2.destroyAllWindows()"
   ]
  },
  {
   "cell_type": "code",
   "execution_count": null,
   "id": "1bba0729-4c90-4aba-93d9-2f24da15c78c",
   "metadata": {},
   "outputs": [],
   "source": []
  }
 ],
 "metadata": {
  "kernelspec": {
   "display_name": "Python 3 (ipykernel)",
   "language": "python",
   "name": "python3"
  },
  "language_info": {
   "codemirror_mode": {
    "name": "ipython",
    "version": 3
   },
   "file_extension": ".py",
   "mimetype": "text/x-python",
   "name": "python",
   "nbconvert_exporter": "python",
   "pygments_lexer": "ipython3",
   "version": "3.12.9"
  }
 },
 "nbformat": 4,
 "nbformat_minor": 5
}

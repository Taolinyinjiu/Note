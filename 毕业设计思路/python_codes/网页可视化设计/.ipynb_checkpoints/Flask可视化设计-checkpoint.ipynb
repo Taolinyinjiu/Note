{
 "cells": [
  {
   "cell_type": "code",
   "execution_count": null,
   "id": "4f7332b0-f8e7-40fd-aa28-e971d9dd2ae2",
   "metadata": {},
   "outputs": [],
   "source": [
    "# flask用于搭建 Web 服务，接收用户的请求，处理数据，并将图表数据或图表文件传递给前端\n",
    "# Flask 创建 Flask Web 应用实例的核心类\n",
    "# render_template 用于渲染 HTML 模板文件\n",
    "from flask import Flask, render_template\n",
    "# random库提供生成随机数的函数\n",
    "import random"
   ]
  },
  {
   "cell_type": "code",
   "execution_count": null,
   "id": "543f92a6-ddce-4fce-b6db-28a27c17de9e",
   "metadata": {},
   "outputs": [],
   "source": [
    "\n",
    "\n",
    "app = Flask(__name__)\n",
    "\n",
    "@app.route('/')\n",
    "def index():\n",
    "    # 准备图表数据\n",
    "    labels = [\"January\", \"February\", \"March\", \"April\", \"May\", \"June\"]\n",
    "    data = [random.randint(10, 100) for _ in range(len(labels))]\n",
    "    return render_template('index.html', labels=labels, data=data)\n",
    "\n",
    "if __name__ == '__main__':\n",
    "    app.run(debug=True)"
   ]
  }
 ],
 "metadata": {
  "kernelspec": {
   "display_name": "Python 3 (ipykernel)",
   "language": "python",
   "name": "python3"
  },
  "language_info": {
   "codemirror_mode": {
    "name": "ipython",
    "version": 3
   },
   "file_extension": ".py",
   "mimetype": "text/x-python",
   "name": "python",
   "nbconvert_exporter": "python",
   "pygments_lexer": "ipython3",
   "version": "3.12.9"
  }
 },
 "nbformat": 4,
 "nbformat_minor": 5
}

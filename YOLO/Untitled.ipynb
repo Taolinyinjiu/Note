{
 "cells": [
  {
   "cell_type": "code",
   "execution_count": 10,
   "id": "475a25a7-4d6e-4874-ab25-886fde687fbd",
   "metadata": {},
   "outputs": [
    {
     "name": "stdout",
     "output_type": "stream",
     "text": [
      "\n",
      "0: 384x640 1 clear, 1 mouse, 13.1ms\n",
      "Speed: 4.1ms preprocess, 13.1ms inference, 60.9ms postprocess per image at shape (1, 3, 384, 640)\n"
     ]
    }
   ],
   "source": [
    "from ultralytics import YOLO\n",
    "import cv2\n",
    "\n",
    "# 加载预训练的 YOLOv8 模型\n",
    "# 你可以替换为 'yolov8n.pt', 'yolov8s.pt', 'yolov8m.pt', 'yolov8l.pt', 'yolov8x.pt' 等不同的模型\n",
    "model = YOLO('best.pt')\n",
    "\n",
    "# 加载要测试的图片\n",
    "image_path = 'test.jpg'  # 将 'your_image.jpg' 替换为你的图片路径\n",
    "img = cv2.imread(image_path)\n",
    "\n",
    "if img is None:\n",
    "    print(f\"无法加载图片: {image_path}\")\n",
    "else:\n",
    "    # 对图片进行推理\n",
    "    results = model(img)\n",
    "\n",
    "    # 显示带有检测框和标签的图片\n",
    "    annotated_frame = results[0].plot()\n",
    "\n",
    "    # 显示图片\n",
    "    cv2.imshow(\"YOLOv8 Detection\", annotated_frame)\n",
    "    cv2.waitKey(0)\n",
    "    cv2.destroyAllWindows()"
   ]
  },
  {
   "cell_type": "code",
   "execution_count": 6,
   "id": "cbbe26e9-4e82-4249-95db-e10a7dce13df",
   "metadata": {},
   "outputs": [
    {
     "data": {
      "text/plain": [
       "'F:\\\\GitHub\\\\Note\\\\YOLO'"
      ]
     },
     "execution_count": 6,
     "metadata": {},
     "output_type": "execute_result"
    }
   ],
   "source": [
    "pwd"
   ]
  },
  {
   "cell_type": "code",
   "execution_count": null,
   "id": "4c2d18d5-39a0-4e05-8668-41d18e0c6f99",
   "metadata": {},
   "outputs": [],
   "source": []
  }
 ],
 "metadata": {
  "kernelspec": {
   "display_name": "Python 3 (ipykernel)",
   "language": "python",
   "name": "python3"
  },
  "language_info": {
   "codemirror_mode": {
    "name": "ipython",
    "version": 3
   },
   "file_extension": ".py",
   "mimetype": "text/x-python",
   "name": "python",
   "nbconvert_exporter": "python",
   "pygments_lexer": "ipython3",
   "version": "3.12.9"
  }
 },
 "nbformat": 4,
 "nbformat_minor": 5
}

{
 "cells": [
  {
   "cell_type": "code",
   "execution_count": null,
   "id": "9e3d4c8c-3a38-43d0-aaf8-f570d88c35f1",
   "metadata": {},
   "outputs": [],
   "source": [
    "import socket\n",
    "import threading\n",
    "import cv2\n",
    "import numpy as np\n",
    "import base64"
   ]
  },
  {
   "cell_type": "code",
   "execution_count": null,
   "id": "bef3aed6-8360-4b79-8524-8d84d8f109d6",
   "metadata": {},
   "outputs": [],
   "source": [
    "# 假设你有一个 process_frame(frame) 函数进行 YOLO 检测并返回处理后的帧\n",
    "def process_frame(frame):\n",
    "    # 这里是你的 OpenCV YOLO 模型处理代码\n",
    "    # 示例：简单地将图像转换为灰度图\n",
    "    gray = cv2.cvtColor(frame, cv2.COLOR_BGR2GRAY)\n",
    "    return cv2.cvtColor(gray, cv2.COLOR_GRAY2BGR) # 转换回 BGR 以便编码\n",
    "\n",
    "def encode_frame(frame):\n",
    "    _, buffer = cv2.imencode('.jpg', frame)\n",
    "    return base64.b64encode(buffer).decode('utf-8')\n",
    "\n",
    "def handle_client(client_socket, addr):\n",
    "    print(f\"与客户端 {addr} 建立连接\")\n",
    "    try:\n",
    "        while True:\n",
    "            data = client_socket.recv(4096) # 接收数据块\n",
    "            if not data:\n",
    "                break\n",
    "            # 假设接收到的是图像数据的路径（简化处理）\n",
    "            image_path = data.decode('utf-8').strip()\n",
    "            try:\n",
    "                frame = cv2.imread(image_path)\n",
    "                if frame is not None:\n",
    "                    processed_frame = process_frame(frame)\n",
    "                    encoded_frame = encode_frame(processed_frame)\n",
    "                    response = encoded_frame.encode('utf-8')\n",
    "                    client_socket.sendall(response)\n",
    "                else:\n",
    "                    client_socket.sendall(\"Error: Could not read image\".encode('utf-8'))\n",
    "            except Exception as e:\n",
    "                client_socket.sendall(f\"Error processing image: {e}\".encode('utf-8'))\n",
    "    except ConnectionResetError:\n",
    "        print(f\"客户端 {addr} 断开连接\")\n",
    "    finally:\n",
    "        client_socket.close()\n",
    "\n",
    "def start_yolo_server(host='localhost', port=12345):\n",
    "    server_socket = socket.socket(socket.AF_INET, socket.SOCK_STREAM)\n",
    "    server_socket.bind((host, port))\n",
    "    server_socket.listen(5)\n",
    "    print(f\"YOLO 服务监听在 {host}:{port}\")\n",
    "    while True:\n",
    "        client_socket, addr = server_socket.accept()\n",
    "        client_thread = threading.Thread(target=handle_client, args=(client_socket, addr))\n",
    "        client_thread.start()\n"
   ]
  },
  {
   "cell_type": "code",
   "execution_count": null,
   "id": "de3b8a22-dcc8-4032-8dd4-ed7992fb1e8f",
   "metadata": {},
   "outputs": [],
   "source": [
    "start_yolo_server()"
   ]
  }
 ],
 "metadata": {
  "kernelspec": {
   "display_name": "Python 3 (ipykernel)",
   "language": "python",
   "name": "python3"
  },
  "language_info": {
   "codemirror_mode": {
    "name": "ipython",
    "version": 3
   },
   "file_extension": ".py",
   "mimetype": "text/x-python",
   "name": "python",
   "nbconvert_exporter": "python",
   "pygments_lexer": "ipython3",
   "version": "3.12.9"
  }
 },
 "nbformat": 4,
 "nbformat_minor": 5
}

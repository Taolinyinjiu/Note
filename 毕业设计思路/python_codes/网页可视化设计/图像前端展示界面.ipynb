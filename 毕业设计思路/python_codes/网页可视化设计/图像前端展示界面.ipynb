{
 "cells": [
  {
   "cell_type": "code",
   "execution_count": null,
   "id": "fdc26961-4c01-4000-ab98-18fd7f8b4897",
   "metadata": {},
   "outputs": [],
   "source": [
    "from flask import Flask, render_template\n",
    "import cv2\n",
    "import numpy as np\n",
    "import base64\n"
   ]
  },
  {
   "cell_type": "code",
   "execution_count": null,
   "id": "fc05bc8e-3ae2-442c-8d15-6cec311bb887",
   "metadata": {},
   "outputs": [],
   "source": [
    "app = Flask(__name__)"
   ]
  },
  {
   "cell_type": "code",
   "execution_count": null,
   "id": "07cf8a81-dab1-4a2d-b129-20ee1e8d2fbb",
   "metadata": {},
   "outputs": [],
   "source": [
    "# 假设你有一个函数 process_image_with_yolo(image_path) 返回处理后的 NumPy 数组\n",
    "def process_image_with_yolo(image_path):\n",
    "    # 这里是你的 OpenCV YOLO 模型处理代码\n",
    "    # 示例：创建一个简单的蓝色图像\n",
    "    img = np.zeros((480, 640, 3), dtype=np.uint8)\n",
    "    img[:] = [255, 0, 0]\n",
    "    return img\n",
    "\n",
    "def encode_image_to_base64(img_np):\n",
    "    _, buffer = cv2.imencode('.png', img_np)\n",
    "    return base64.b64encode(buffer).decode('utf-8')\n",
    "\n",
    "def read_svg_file(svg_path):\n",
    "    with open(svg_path, 'r') as f:\n",
    "        return f.read()\n",
    "\n",
    "@app.route('/')\n",
    "def index():\n",
    "    # 处理 YOLO 图像\n",
    "    yolo_image_path = 'path/to/your/input_image.jpg'  # 替换为你的输入图像路径\n",
    "    processed_image = process_image_with_yolo(yolo_image_path)\n",
    "    yolo_image_base64 = encode_image_to_base64(processed_image)\n",
    "\n",
    "    # 读取 SVG 文件\n",
    "    svg_file_path = 'static/your_svg_file.svg'  # SVG 文件放在 static 文件夹中\n",
    "    svg_content = read_svg_file(svg_file_path)\n",
    "\n",
    "    # 视频文件路径 (假设放在 static 文件夹中)\n",
    "    video_file_path = 'static/your_video.mp4'\n",
    "\n",
    "    return render_template('index.html',\n",
    "                           yolo_image_base64=yolo_image_base64,\n",
    "                           svg_content=svg_content,\n",
    "                           video_file_path=video_file_path)"
   ]
  },
  {
   "cell_type": "code",
   "execution_count": null,
   "id": "7f38ea23-412f-4c26-ab6d-c2bcb7aed81c",
   "metadata": {},
   "outputs": [],
   "source": [
    "app.run(debug=True)"
   ]
  },
  {
   "cell_type": "code",
   "execution_count": null,
   "id": "e45a69bc-6dcb-4ae9-a4f2-3025c2359230",
   "metadata": {},
   "outputs": [],
   "source": []
  }
 ],
 "metadata": {
  "kernelspec": {
   "display_name": "Python 3 (ipykernel)",
   "language": "python",
   "name": "python3"
  },
  "language_info": {
   "codemirror_mode": {
    "name": "ipython",
    "version": 3
   },
   "file_extension": ".py",
   "mimetype": "text/x-python",
   "name": "python",
   "nbconvert_exporter": "python",
   "pygments_lexer": "ipython3",
   "version": "3.12.9"
  }
 },
 "nbformat": 4,
 "nbformat_minor": 5
}

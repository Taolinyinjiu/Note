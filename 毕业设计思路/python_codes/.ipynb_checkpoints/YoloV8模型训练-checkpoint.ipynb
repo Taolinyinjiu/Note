{
 "cells": [
  {
   "cell_type": "code",
   "execution_count": 1,
   "id": "0ba58b10-61f2-46ce-861f-67772b962541",
   "metadata": {},
   "outputs": [],
   "source": [
    "import ultralytics"
   ]
  },
  {
   "cell_type": "code",
   "execution_count": null,
   "id": "f73a23e4-5364-41f7-a7c1-622e03f34e94",
   "metadata": {},
   "outputs": [],
   "source": [
    "# Load a pretrained  model\n",
    "model = YOLO('yolov8n.yaml')  # Build a new model from scratch\n",
    "model = YOLO('yolov8n.pt')  # Load a pretrained model (recommended for training)"
   ]
  },
  {
   "cell_type": "code",
   "execution_count": null,
   "id": "bf28b858-4ec6-447e-a316-0cb0a81cf306",
   "metadata": {},
   "outputs": [],
   "source": [
    "# Train the model\n",
    "results = model.train(data='train.yaml', epochs=100, imgsz=640)"
   ]
  }
 ],
 "metadata": {
  "kernelspec": {
   "display_name": "Python 3 (ipykernel)",
   "language": "python",
   "name": "python3"
  },
  "language_info": {
   "codemirror_mode": {
    "name": "ipython",
    "version": 3
   },
   "file_extension": ".py",
   "mimetype": "text/x-python",
   "name": "python",
   "nbconvert_exporter": "python",
   "pygments_lexer": "ipython3",
   "version": "3.12.9"
  }
 },
 "nbformat": 4,
 "nbformat_minor": 5
}

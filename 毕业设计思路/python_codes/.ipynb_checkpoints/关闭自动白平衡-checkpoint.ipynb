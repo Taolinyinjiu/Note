{
 "cells": [
  {
   "cell_type": "code",
   "execution_count": 6,
   "id": "c9b691a6-8091-42bd-bc6b-b0bb3bbe1391",
   "metadata": {},
   "outputs": [],
   "source": [
    "# 导入视觉处理库 OpenCV\n",
    "import cv2\n",
    "# 导入数据处理库 numpy\n",
    "import numpy as np"
   ]
  },
  {
   "cell_type": "code",
   "execution_count": 7,
   "id": "40192403-0e35-4281-a8a2-c197f8353369",
   "metadata": {},
   "outputs": [],
   "source": [
    "# 导入线程库threading\n",
    "import threading\n",
    "# 导入python的标准库time，提供与时间相关的函数\n",
    "import time"
   ]
  },
  {
   "cell_type": "code",
   "execution_count": 8,
   "id": "dedfd439-b826-4bab-b7fe-07f5473606be",
   "metadata": {},
   "outputs": [],
   "source": [
    "# 导入用于在Jupyter中显示视频流的display库\n",
    "from IPython.display import display\n",
    "# ipywidgets 是一个用于在 Jupyter Notebook 和 JupyterLab 中创建交互式控件（例如按钮、滑块、文本框、图像显示等）的库\n",
    "import ipywidgets as widgets"
   ]
  },
  {
   "cell_type": "code",
   "execution_count": 9,
   "id": "b51b8334-881d-4bf6-a444-2c6366f9bfc4",
   "metadata": {},
   "outputs": [
    {
     "data": {
      "application/vnd.jupyter.widget-view+json": {
       "model_id": "e8e69578920d4bff845578dd0f02d3a6",
       "version_major": 2,
       "version_minor": 0
      },
      "text/plain": [
       "HBox(children=(Image(value=b'', format='jpeg'), Image(value=b'', format='jpeg')))"
      ]
     },
     "metadata": {},
     "output_type": "display_data"
    }
   ],
   "source": [
    "# 创建用于在 Jupyter 中显示的图像控件\n",
    "image_widget_original = widgets.Image(format='jpeg')\n",
    "image_widget_undistorted = widgets.Image(format='jpeg')\n",
    "display(widgets.HBox([image_widget_original, image_widget_undistorted]))"
   ]
  },
  {
   "cell_type": "code",
   "execution_count": null,
   "id": "3fa8d9c0-f203-4b63-804b-c247ecb10313",
   "metadata": {},
   "outputs": [],
   "source": [
    "cap = cv2.VideoCapture(0)\n",
    "success = cap.isOpened()\n",
    "# 关闭自动白平衡\n",
    "cap.set(cv2.CAP_PROP_AUTO_WB, 0)\n",
    "while success:\n",
    "    ret, frames = cap.read()\n",
    "    frame_rgb = cv2.cvtColor(frames, cv2.COLOR_BGR2RGB)\n",
    "    cv2.imshow(\"\", frame_rgb)\n",
    "    if cv2.waitKey(1) & 0xFF == ord('q'):\n",
    "    break\n",
    "cap.release()\n",
    "cv2.destroyAllWindows()\n"
   ]
  },
  {
   "cell_type": "code",
   "execution_count": null,
   "id": "d9c560f7-48e4-4a5d-84f2-78af187857e8",
   "metadata": {},
   "outputs": [],
   "source": []
  }
 ],
 "metadata": {
  "kernelspec": {
   "display_name": "Python 3 (ipykernel)",
   "language": "python",
   "name": "python3"
  },
  "language_info": {
   "codemirror_mode": {
    "name": "ipython",
    "version": 3
   },
   "file_extension": ".py",
   "mimetype": "text/x-python",
   "name": "python",
   "nbconvert_exporter": "python",
   "pygments_lexer": "ipython3",
   "version": "3.12.9"
  }
 },
 "nbformat": 4,
 "nbformat_minor": 5
}

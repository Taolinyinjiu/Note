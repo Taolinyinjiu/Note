{
 "cells": [
  {
   "cell_type": "code",
   "execution_count": null,
   "id": "a9992940-ac06-4c09-8ac6-18e031aee149",
   "metadata": {},
   "outputs": [],
   "source": [
    "# flask.Flask : Flask 框架的核心类，用于创建 Flask 应用实例。\n",
    "# flask.render_template: Flask 函数，用于渲染 HTML 模板文件，并将数据传递给模板\n",
    "# flask.request: Flask 对象，用于访问客户端发送的请求数据（例如，表单数据、查询参数）\n",
    "# flask.jsonify: Flask 函数，用于将 Python 数据结构（例如，字典、列表）转换为 JSON 格式的响应\n",
    "from flask import Flask, render_template, request, jsonify\n",
    "# base64: Python 标准库，用于处理 Base64 编码的数据（在处理图像数据时可能会用到）\n",
    "import base64"
   ]
  },
  {
   "cell_type": "code",
   "execution_count": null,
   "id": "c1302946-a1d7-4ea4-a464-227c6f702dcc",
   "metadata": {},
   "outputs": [],
   "source": [
    "# 创建了一个 Flask 应用实例，并将其赋值给变量 app\n",
    "app = Flask(__name__)"
   ]
  },
  {
   "cell_type": "code",
   "execution_count": null,
   "id": "76c896fa-e2b3-4d2a-a99a-352992ccaa6e",
   "metadata": {},
   "outputs": [],
   "source": [
    "# 使用全局变量存储接收到的数据 (简单方法，生产环境可能需要更完善的状态管理)\n",
    "# 用于存储 YOLO 处理后的图像数据\n",
    "yolo_image_data = None\n",
    "#  用于存储 SVG 内容\n",
    "svg_content_data = None\n",
    "# 用于存储视频文件的路径\n",
    "video_path_data = None\n",
    "# 用于存储 YOLO 处理过程中发生的错误信息\n",
    "yolo_error_data = None"
   ]
  },
  {
   "cell_type": "markdown",
   "id": "61a4da09-1602-4438-882c-ce8b0dd8b495",
   "metadata": {},
   "source": [
    "* `@app.route('/')` 是一个 Flask 装饰器，它将函数 `index()` 注册为处理根 URL (`/`) 的视图函数。\n",
    "* 当用户在浏览器中访问应用的根 URL 时，Flask 会调用 `index()` 函数。\n",
    "* `index()` 函数使用 `render_template()` 函数来渲染 `index_dynamic.html` 模板文件，并将全局变量中的数据作为参数传递给模板。\n",
    "* 这样，模板就可以使用这些数据来动态生成 HTML 页面。"
   ]
  },
  {
   "cell_type": "code",
   "execution_count": null,
   "id": "767fec07-25f5-4c6c-b8b0-ff0878dd4a0d",
   "metadata": {},
   "outputs": [],
   "source": [
    "@app.route('/')\n",
    "def index():\n",
    "    return render_template('index_dynamic.html',\n",
    "                           yolo_image_data=yolo_image_data,\n",
    "                           svg_content_data=svg_content_data,\n",
    "                           video_path_data=video_path_data,\n",
    "                           yolo_error_data=yolo_error_data)"
   ]
  },
  {
   "cell_type": "markdown",
   "id": "611da92c-c279-4134-a13d-af9d6863ac6c",
   "metadata": {},
   "source": [
    "* `@app.route('/receive_yolo_image', methods=['POST'])`：这个装饰器将 `receive_yolo_image()` 函数注册为处理 `/receive_yolo_image` URL 的 `POST` 请求。\n",
    "* `methods=['POST']` 指定该路由只接受 `POST` 请求。这是因为通常客户端会使用 `POST` 方法来向服务器发送数据。\n",
    "* `receive_yolo_image()` 函数用于接收 YOLO 处理后的图像数据或错误信息。\n",
    "* `request.form` 是一个字典，包含了客户端通过 `POST` 请求发送的表单数据。\n",
    "* 函数首先检查 `request.form` 中是否存在 `image_data` 键。如果存在，则将图像数据存储到全局变量 `yolo_image_data` 中，并将 `yolo_error_data` 设置为 `None`，然后返回一个 JSON 响应，表示成功接收到图像数据。\n",
    "* 如果 `request.form` 中不存在 `image_data` 键，则函数检查是否存在 `error` 键。如果存在，则将错误信息存储到全局变量 `yolo_error_data` 中，并将 `yolo_image_data` 设置为 `None`，然后返回一个 JSON 响应，表示接收到错误信息。\n",
    "* 如果 `request.form` 中既不存在 `image_data` 也不存在 `error` 键，则函数返回一个 JSON 响应，表示没有接收到任何数据，并返回 HTTP 状态码 400（Bad Request），表示客户端的请求有误。\n",
    "* `jsonify()` 函数用于将 Python 字典转换为 JSON 格式的响应"
   ]
  },
  {
   "cell_type": "code",
   "execution_count": null,
   "id": "0801fbea-3519-4237-b8ae-4c7dbd4ebe85",
   "metadata": {},
   "outputs": [],
   "source": [
    "@app.route('/receive_yolo_image', methods=['POST'])\n",
    "def receive_yolo_image():\n",
    "    global yolo_image_data\n",
    "    global yolo_error_data\n",
    "    if 'image_data' in request.form:\n",
    "        yolo_image_data = request.form['image_data']\n",
    "        yolo_error_data = None\n",
    "        return jsonify({'status': 'success', 'message': 'YOLO image received'})\n",
    "    elif 'error' in request.form:\n",
    "        yolo_error_data = request.form['error']\n",
    "        yolo_image_data = None\n",
    "        return jsonify({'status': 'error', 'message': 'YOLO processing error'})\n",
    "    else:\n",
    "        return jsonify({'status': 'error', 'message': 'No image_data or error received'}), 400"
   ]
  },
  {
   "cell_type": "markdown",
   "id": "e0abceeb-c9c3-4235-804d-f636bff82901",
   "metadata": {},
   "source": [
    "* 这个路由和 `receive_yolo_image` 路由类似，用于接收 SVG 数据。\n",
    "* 它检查 `request.form` 中是否存在 `svg_data` 键，如果存在，则将 SVG 数据存储到全局变量 `svg_content_data` 中，并返回一个 JSON 响应。\n",
    "* 否则，返回一个 JSON 响应，表示没有接收到 SVG 数据，并返回 HTTP 状态码 400。"
   ]
  },
  {
   "cell_type": "code",
   "execution_count": null,
   "id": "a0556ca4-2203-4858-b9bf-fb45cc90af60",
   "metadata": {},
   "outputs": [],
   "source": [
    "@app.route('/receive_svg', methods=['POST'])\n",
    "def receive_svg():\n",
    "    global svg_content_data\n",
    "    if 'svg_data' in request.form:\n",
    "        svg_content_data = request.form['svg_data']\n",
    "        return jsonify({'status': 'success', 'message': 'SVG data received'})\n",
    "    else:\n",
    "        return jsonify({'status': 'error', 'message': 'No svg_data received'}), 400"
   ]
  },
  {
   "cell_type": "markdown",
   "id": "e401b5c4-3fc4-490e-bf49-05cddff035ab",
   "metadata": {},
   "source": [
    "* 这个路由也和前两个类似，用于接收视频文件的路径。\n",
    "* 它检查 `request.form` 中是否存在 `video_path` 键，如果存在，则将视频路径存储到全局变量 `video_path_data` 中，并返回一个 JSON 响应。\n",
    "* 否则，返回一个 JSON 响应，表示没有接收到视频路径，并返回 HTTP 状态码 400。"
   ]
  },
  {
   "cell_type": "code",
   "execution_count": null,
   "id": "71c8b44e-5a04-4729-92cd-d5654b7bd5c1",
   "metadata": {},
   "outputs": [],
   "source": [
    "@app.route('/receive_video_path', methods=['POST'])\n",
    "def receive_video_path():\n",
    "    global video_path_data\n",
    "    if 'video_path' in request.form:\n",
    "        video_path_data = request.form['video_path']\n",
    "        return jsonify({'status': 'success', 'message': 'Video path received'})\n",
    "    else:\n",
    "        return jsonify({'status': 'error', 'message': 'No video_path received'}), 400"
   ]
  },
  {
   "cell_type": "code",
   "execution_count": null,
   "id": "8dc26866-02db-4f76-b079-f18a3b1a6230",
   "metadata": {},
   "outputs": [],
   "source": [
    "# 启动 Flask 开发服务器\n",
    "if __name__ == '__main__':\n",
    "    app.run(debug=True)"
   ]
  },
  {
   "cell_type": "code",
   "execution_count": null,
   "id": "dcb1af6b-320f-4178-97ea-359df7bedbcf",
   "metadata": {},
   "outputs": [],
   "source": []
  }
 ],
 "metadata": {
  "kernelspec": {
   "display_name": "Python 3 (ipykernel)",
   "language": "python",
   "name": "python3"
  },
  "language_info": {
   "codemirror_mode": {
    "name": "ipython",
    "version": 3
   },
   "file_extension": ".py",
   "mimetype": "text/x-python",
   "name": "python",
   "nbconvert_exporter": "python",
   "pygments_lexer": "ipython3",
   "version": "3.12.9"
  }
 },
 "nbformat": 4,
 "nbformat_minor": 5
}

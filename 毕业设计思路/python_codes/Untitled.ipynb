{
 "cells": [
  {
   "cell_type": "code",
   "execution_count": 1,
   "id": "ba6a5792-5709-45ca-8cf8-eba1e4063e30",
   "metadata": {},
   "outputs": [],
   "source": [
    "import os\n",
    "import random\n",
    "import shutil"
   ]
  },
  {
   "cell_type": "code",
   "execution_count": 2,
   "id": "40ad7070-9744-4595-b865-0cb50b4c2866",
   "metadata": {},
   "outputs": [],
   "source": [
    "def split_dataset(input_image_folder, input_label_folder, output_folder, test_ratio=0.2):\n",
    "    # 创建训练集和验证集文件夹\n",
    "    train_images_folder = os.path.join(output_folder, 'train', 'images')\n",
    "    train_labels_folder = os.path.join(output_folder, 'train', 'labels')\n",
    "    val_images_folder = os.path.join(output_folder, 'val', 'images')\n",
    "    val_labels_folder = os.path.join(output_folder, 'val', 'labels')\n",
    "\n",
    "    os.makedirs(train_images_folder, exist_ok=True)\n",
    "    os.makedirs(train_labels_folder, exist_ok=True)\n",
    "    os.makedirs(val_images_folder, exist_ok=True)\n",
    "    os.makedirs(val_labels_folder, exist_ok=True)\n",
    "\n",
    "    # 获取所有图像文件列表\n",
    "    images = [f for f in os.listdir(input_image_folder) if f.endswith('.jpg') or f.endswith('.png')]\n",
    "\n",
    "    # 随机打乱图像文件列表\n",
    "    random.shuffle(images)\n",
    "\n",
    "    # 计算验证集的数量\n",
    "    val_size = int(len(images) * test_ratio)\n",
    "\n",
    "    # 划分验证集和训练集\n",
    "    val_images = images[:val_size]\n",
    "    train_images = images[val_size:]\n",
    "\n",
    "    # 复制验证集图像和标签\n",
    "    for image in val_images:\n",
    "        label = os.path.splitext(image)[0] + '.txt'\n",
    "        if os.path.exists(os.path.join(input_label_folder, label)):\n",
    "            shutil.copy(os.path.join(input_image_folder, image), os.path.join(val_images_folder, image))\n",
    "            shutil.copy(os.path.join(input_label_folder, label), os.path.join(val_labels_folder, label))\n",
    "        else:\n",
    "            print(f\"Warning: Label file {label} not found for image {image}\")\n",
    "\n",
    "    # 复制训练集图像和标签\n",
    "    for image in train_images:\n",
    "        label = os.path.splitext(image)[0] + '.txt'\n",
    "        if os.path.exists(os.path.join(input_label_folder, label)):\n",
    "            shutil.copy(os.path.join(input_image_folder, image), os.path.join(train_images_folder, image))\n",
    "            shutil.copy(os.path.join(input_label_folder, label), os.path.join(train_labels_folder, label))\n",
    "        else:\n",
    "            print(f\"Warning: Label file {label} not found for image {image}\")"
   ]
  },
  {
   "cell_type": "code",
   "execution_count": 6,
   "id": "39edeffa-f748-4bac-a5c5-26a50e08a1e2",
   "metadata": {},
   "outputs": [],
   "source": [
    "# 使用示例\n",
    "input_image_folder = '准备数据集/Marked_Images/images' # 图片路径\n",
    "input_label_folder = '准备数据集/Marked_Images/labels' # 标签路径\n",
    "output_folder = '准备数据集/Marked_Images/datasets'\n",
    "split_dataset(input_image_folder, input_label_folder, output_folder, test_ratio=0.2)"
   ]
  },
  {
   "cell_type": "code",
   "execution_count": null,
   "id": "cb743ec0-9dcc-43ec-a1bf-036fd3b1dcc8",
   "metadata": {},
   "outputs": [],
   "source": []
  }
 ],
 "metadata": {
  "kernelspec": {
   "display_name": "Python 3 (ipykernel)",
   "language": "python",
   "name": "python3"
  },
  "language_info": {
   "codemirror_mode": {
    "name": "ipython",
    "version": 3
   },
   "file_extension": ".py",
   "mimetype": "text/x-python",
   "name": "python",
   "nbconvert_exporter": "python",
   "pygments_lexer": "ipython3",
   "version": "3.12.9"
  }
 },
 "nbformat": 4,
 "nbformat_minor": 5
}

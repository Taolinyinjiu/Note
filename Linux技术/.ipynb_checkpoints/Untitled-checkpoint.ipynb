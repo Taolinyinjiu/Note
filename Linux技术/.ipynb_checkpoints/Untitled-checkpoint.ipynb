{
 "cells": [
  {
   "cell_type": "code",
   "execution_count": null,
   "id": "72044cd9-c902-463a-878b-4ff40c8bc947",
   "metadata": {},
   "outputs": [],
   "source": [
    "# 发送\n",
    "#!/usr/bin/env python3\n",
    "\n",
    "import http.server\n",
    "import socketserver\n",
    "import threading\n",
    "import time\n",
    "\n",
    "# Web 服务器配置\n",
    "WEB_SERVER_HOST = \"0.0.0.0\"  # 监听所有可用接口\n",
    "WEB_SERVER_PORT = 8000\n",
    "\n",
    "# UDP 发送配置\n",
    "UDP_HOST = \"127.0.0.1\"  # 你要发送 UDP 信息的目标 IP 地址\n",
    "UDP_PORT = 12345        # 你要发送 UDP 信息的目标端口\n",
    "UDP_MESSAGE = \"Hello from UDP server!\"\n",
    "UDP_SEND_INTERVAL = 1     # 每隔多少秒发送一次 UDP 信息\n",
    "\n",
    "class SimpleHTTPRequestHandler(http.server.SimpleHTTPRequestHandler):\n",
    "    def do_GET(self):\n",
    "        self.send_response(200)\n",
    "        self.send_header(\"Content-type\", \"text/html\")\n",
    "        self.end_headers()\n",
    "        response_content = \"<html><body><h1>Hello from the Web Server!</h1></body></html>\"\n",
    "        self.wfile.write(response_content.encode())\n",
    "\n",
    "def start_web_server():\n",
    "    with socketserver.TCPServer((WEB_SERVER_HOST, WEB_SERVER_PORT), SimpleHTTPRequestHandler) as httpd:\n",
    "        print(f\"Web server started at http://{WEB_SERVER_HOST}:{WEB_SERVER_PORT}\")\n",
    "        httpd.serve_forever()\n",
    "\n",
    "def send_udp_messages():\n",
    "    udp_socket = socketserver.UDPServer((\"0.0.0.0\", 0), None) # 创建一个 UDP socket\n",
    "    udp_socket.socket = socket.socket(socket.AF_INET, socket.SOCK_DGRAM) # 获取底层的 socket 对象\n",
    "    while True:\n",
    "        try:\n",
    "            udp_socket.socket.sendto(UDP_MESSAGE.encode('utf-8'), (UDP_HOST, UDP_PORT))\n",
    "            print(f\"Sent UDP message to {UDP_HOST}:{UDP_PORT}: {UDP_MESSAGE}\")\n",
    "        except Exception as e:\n",
    "            print(f\"Error sending UDP message: {e}\")\n",
    "        time.sleep(UDP_SEND_INTERVAL)\n",
    "\n",
    "if __name__ == \"__main__\":\n",
    "    # 创建并启动 Web 服务器线程\n",
    "    web_thread = threading.Thread(target=start_web_server)\n",
    "    web_thread.daemon = True  # 设置为守护线程，主线程退出时自动退出\n",
    "    web_thread.start()\n",
    "\n",
    "    # 启动 UDP 发送功能 (在主线程中运行)\n",
    "    send_udp_messages()"
   ]
  }
 ],
 "metadata": {
  "kernelspec": {
   "display_name": "Python 3 (ipykernel)",
   "language": "python",
   "name": "python3"
  },
  "language_info": {
   "codemirror_mode": {
    "name": "ipython",
    "version": 3
   },
   "file_extension": ".py",
   "mimetype": "text/x-python",
   "name": "python",
   "nbconvert_exporter": "python",
   "pygments_lexer": "ipython3",
   "version": "3.12.9"
  }
 },
 "nbformat": 4,
 "nbformat_minor": 5
}
